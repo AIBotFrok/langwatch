{
 "cells": [
  {
   "cell_type": "code",
   "execution_count": 2,
   "id": "78f4041d-b469-42d9-affc-f7ccbc03c98e",
   "metadata": {},
   "outputs": [
    {
     "name": "stdout",
     "output_type": "stream",
     "text": [
      "Starting batch evaluation...\n"
     ]
    },
    {
     "name": "stderr",
     "output_type": "stream",
     "text": [
      "100%|███████████████████████████████████████████████████████████████████████████████████████████████████████████████████| 2/2 [00:21<00:00, 10.97s/it]\n"
     ]
    }
   ],
   "source": [
    "from dotenv import load_dotenv\n",
    "\n",
    "load_dotenv()\n",
    "import sys\n",
    "\n",
    "sys.path.append(\"..\")\n",
    "\n",
    "from langwatch.batch_evaluation import BatchEvaluation, DatasetEntry\n",
    "\n",
    "def callback(entry: DatasetEntry):\n",
    "    # generate messages for entry.input using your LLM\n",
    "    # input_data = entry.get(\"input\")\n",
    "    # Assuming entry contains an \"input\" field\n",
    "\n",
    "    # Process the input data using your LLM and generate a response\n",
    "    # response = f\"Generated response for input: {input_data}\"\n",
    "    # print(response)\n",
    "\n",
    "    return {\"output\": \"Hello! How can I help you today?\"}\n",
    "\n",
    "\n",
    "# Instantiate the BatchEvaluation object\n",
    "evaluation = BatchEvaluation(\n",
    "    dataset=\"python-test\",  # Provide the actual dataset name here\n",
    "    evaluations=[\"ragas/answer_relevancy\", \"lingua/language_detection\", \"custom/llm_score\"],\n",
    "    callback=callback,\n",
    "    generations=\"one-shot\",\n",
    ")\n",
    "\n",
    "# Run the evaluation\n",
    "results = evaluation.run()"
   ]
  },
  {
   "cell_type": "code",
   "execution_count": 10,
   "id": "968f116e-9ca3-41fa-a46a-4043eab98bd9",
   "metadata": {},
   "outputs": [
    {
     "data": {
      "text/html": [
       "<div>\n",
       "<style scoped>\n",
       "    .dataframe tbody tr th:only-of-type {\n",
       "        vertical-align: middle;\n",
       "    }\n",
       "\n",
       "    .dataframe tbody tr th {\n",
       "        vertical-align: top;\n",
       "    }\n",
       "\n",
       "    .dataframe thead th {\n",
       "        text-align: right;\n",
       "    }\n",
       "</style>\n",
       "<table border=\"1\" class=\"dataframe\">\n",
       "  <thead>\n",
       "    <tr style=\"text-align: right;\">\n",
       "      <th></th>\n",
       "      <th>input</th>\n",
       "      <th>expectedOutput</th>\n",
       "      <th>ragas/answer_relevancy</th>\n",
       "      <th>lingua/language_detection</th>\n",
       "      <th>custom/llm_score</th>\n",
       "    </tr>\n",
       "  </thead>\n",
       "  <tbody>\n",
       "    <tr>\n",
       "      <th>0</th>\n",
       "      <td>hi</td>\n",
       "      <td>Hey! 👋🏻 How can I help you today?</td>\n",
       "      <td>0.0</td>\n",
       "      <td>skipped</td>\n",
       "      <td>0.6</td>\n",
       "    </tr>\n",
       "    <tr>\n",
       "      <th>1</th>\n",
       "      <td>hello</td>\n",
       "      <td>👋 Hello! How can I help you today?</td>\n",
       "      <td>0.0</td>\n",
       "      <td>skipped</td>\n",
       "      <td>0.6</td>\n",
       "    </tr>\n",
       "  </tbody>\n",
       "</table>\n",
       "</div>"
      ],
      "text/plain": [
       "   input                      expectedOutput  ragas/answer_relevancy  \\\n",
       "0     hi   Hey! 👋🏻 How can I help you today?                     0.0   \n",
       "1  hello  👋 Hello! How can I help you today?                     0.0   \n",
       "\n",
       "  lingua/language_detection  custom/llm_score  \n",
       "0                   skipped               0.6  \n",
       "1                   skipped               0.6  "
      ]
     },
     "execution_count": 10,
     "metadata": {},
     "output_type": "execute_result"
    }
   ],
   "source": [
    "results.df"
   ]
  }
 ],
 "metadata": {
  "kernelspec": {
   "display_name": "Python 3 (ipykernel)",
   "language": "python",
   "name": "python3"
  },
  "language_info": {
   "codemirror_mode": {
    "name": "ipython",
    "version": 3
   },
   "file_extension": ".py",
   "mimetype": "text/x-python",
   "name": "python",
   "nbconvert_exporter": "python",
   "pygments_lexer": "ipython3",
   "version": "3.11.2"
  }
 },
 "nbformat": 4,
 "nbformat_minor": 5
}
