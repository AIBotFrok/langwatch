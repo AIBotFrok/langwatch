{
 "cells": [
  {
   "cell_type": "code",
   "execution_count": 3,
   "id": "1321f2ab-223b-4794-8256-7cee50000fd7",
   "metadata": {},
   "outputs": [
    {
     "name": "stdout",
     "output_type": "stream",
     "text": [
      "Starting batch evaluation...\n"
     ]
    },
    {
     "name": "stderr",
     "output_type": "stream",
     "text": [
      "100%|█████████████████████████████████████████████████████████████████████████████████████████████████████████████████████████████████████████████████████| 7/7 [00:06<00:00,  1.16it/s]\n"
     ]
    }
   ],
   "source": [
    "from dotenv import load_dotenv\n",
    "\n",
    "load_dotenv()\n",
    "from langwatch.batch_evaluation import BatchEvaluation, DatasetEntry\n",
    "\n",
    "\n",
    "def callback(entry: DatasetEntry):\n",
    "    # generate messages for entry.input using your LLM\n",
    "    # input_data = entry.get(\"input\")\n",
    "    # Assuming entry contains an \"input\" field\n",
    "\n",
    "    # Process the input data using your LLM and generate a response\n",
    "    # response = f\"Generated response for input: {input_data}\"\n",
    "    # print(response)\n",
    "    # return {\"output\": response}\n",
    "\n",
    "    return {\"output\": \"Hello! How can I help you today?\"}\n",
    "\n",
    "\n",
    "# Instantiate the BatchEvaluation object\n",
    "evaluation = BatchEvaluation(\n",
    "    dataset=\"python-test\",  # Provide the actual dataset name here\n",
    "    evaluations=[\"custom-llm-boolean-evaluator\",\"huggingface/bert_recall\"],  # Provide the actual evaluations here\n",
    "    callback=callback,\n",
    ")\n",
    "\n",
    "# Run the evaluation\n",
    "results = evaluation.run()\n"
   ]
  },
  {
   "cell_type": "code",
   "execution_count": 4,
   "id": "33788ae3-eae1-435f-a83a-bc7e87858056",
   "metadata": {},
   "outputs": [
    {
     "data": {
      "text/html": [
       "<div>\n",
       "<style scoped>\n",
       "    .dataframe tbody tr th:only-of-type {\n",
       "        vertical-align: middle;\n",
       "    }\n",
       "\n",
       "    .dataframe tbody tr th {\n",
       "        vertical-align: top;\n",
       "    }\n",
       "\n",
       "    .dataframe thead th {\n",
       "        text-align: right;\n",
       "    }\n",
       "</style>\n",
       "<table border=\"1\" class=\"dataframe\">\n",
       "  <thead>\n",
       "    <tr style=\"text-align: right;\">\n",
       "      <th></th>\n",
       "      <th>input</th>\n",
       "      <th>expected_output</th>\n",
       "      <th>output</th>\n",
       "      <th>custom-llm-boolean-evaluator</th>\n",
       "    </tr>\n",
       "  </thead>\n",
       "  <tbody>\n",
       "    <tr>\n",
       "      <th>0</th>\n",
       "      <td>hi</td>\n",
       "      <td>Hey there! It's great to chat with you. I'm he...</td>\n",
       "      <td>Hello! How can I help you today?</td>\n",
       "      <td>True</td>\n",
       "    </tr>\n",
       "    <tr>\n",
       "      <th>1</th>\n",
       "      <td>now it will work</td>\n",
       "      <td>Absolutely, I'm here whenever you need me. If ...</td>\n",
       "      <td>Hello! How can I help you today?</td>\n",
       "      <td>True</td>\n",
       "    </tr>\n",
       "    <tr>\n",
       "      <th>2</th>\n",
       "      <td>aaaaaaaaa</td>\n",
       "      <td>Hey there! It looks like you're in need of som...</td>\n",
       "      <td>Hello! How can I help you today?</td>\n",
       "      <td>True</td>\n",
       "    </tr>\n",
       "    <tr>\n",
       "      <th>3</th>\n",
       "      <td>hi</td>\n",
       "      <td>Hey there! It's great to chat with you. I've b...</td>\n",
       "      <td>Hello! How can I help you today?</td>\n",
       "      <td>True</td>\n",
       "    </tr>\n",
       "    <tr>\n",
       "      <th>4</th>\n",
       "      <td>hi</td>\n",
       "      <td>Hey! 👋🏻 How can I help you today?</td>\n",
       "      <td>Hello! How can I help you today?</td>\n",
       "      <td>True</td>\n",
       "    </tr>\n",
       "    <tr>\n",
       "      <th>5</th>\n",
       "      <td>aaaaaaaaa</td>\n",
       "      <td>It looks like you might have accidentally ente...</td>\n",
       "      <td>Hello! How can I help you today?</td>\n",
       "      <td>True</td>\n",
       "    </tr>\n",
       "    <tr>\n",
       "      <th>6</th>\n",
       "      <td>hello</td>\n",
       "      <td>👋 Hello! How can I help you today?</td>\n",
       "      <td>Hello! How can I help you today?</td>\n",
       "      <td>True</td>\n",
       "    </tr>\n",
       "  </tbody>\n",
       "</table>\n",
       "</div>"
      ],
      "text/plain": [
       "              input                                    expected_output  \\\n",
       "0                hi  Hey there! It's great to chat with you. I'm he...   \n",
       "1  now it will work  Absolutely, I'm here whenever you need me. If ...   \n",
       "2         aaaaaaaaa  Hey there! It looks like you're in need of som...   \n",
       "3                hi  Hey there! It's great to chat with you. I've b...   \n",
       "4                hi                  Hey! 👋🏻 How can I help you today?   \n",
       "5         aaaaaaaaa  It looks like you might have accidentally ente...   \n",
       "6             hello                 👋 Hello! How can I help you today?   \n",
       "\n",
       "                             output  custom-llm-boolean-evaluator  \n",
       "0  Hello! How can I help you today?                          True  \n",
       "1  Hello! How can I help you today?                          True  \n",
       "2  Hello! How can I help you today?                          True  \n",
       "3  Hello! How can I help you today?                          True  \n",
       "4  Hello! How can I help you today?                          True  \n",
       "5  Hello! How can I help you today?                          True  \n",
       "6  Hello! How can I help you today?                          True  "
      ]
     },
     "execution_count": 4,
     "metadata": {},
     "output_type": "execute_result"
    }
   ],
   "source": [
    "results.df"
   ]
  },
  {
   "cell_type": "code",
   "execution_count": null,
   "id": "45aeceb4-cdf2-4736-9f17-acfdfad79de1",
   "metadata": {},
   "outputs": [],
   "source": []
  }
 ],
 "metadata": {
  "kernelspec": {
   "display_name": "Python 3 (ipykernel)",
   "language": "python",
   "name": "python3"
  },
  "language_info": {
   "codemirror_mode": {
    "name": "ipython",
    "version": 3
   },
   "file_extension": ".py",
   "mimetype": "text/x-python",
   "name": "python",
   "nbconvert_exporter": "python",
   "pygments_lexer": "ipython3",
   "version": "3.11.2"
  }
 },
 "nbformat": 4,
 "nbformat_minor": 5
}
